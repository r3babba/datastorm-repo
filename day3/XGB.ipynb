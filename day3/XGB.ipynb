{
 "cells": [
  {
   "cell_type": "code",
   "execution_count": 97,
   "metadata": {},
   "outputs": [],
   "source": [
    "#Import libraries:\n",
    "import pandas as pd\n",
    "import numpy as np\n",
    "import xgboost as xgb\n",
    "from xgboost.sklearn import XGBClassifier\n",
    "from sklearn import metrics   #Additional scklearn functions\n",
    "from sklearn.model_selection import cross_validate\n",
    "from sklearn.model_selection import RandomizedSearchCV, GridSearchCV, train_test_split  #Perforing grid search\n",
    "\n",
    "import matplotlib.pylab as plt\n",
    "%matplotlib inline\n",
    "from matplotlib.pylab import rcParams\n",
    "rcParams['figure.figsize'] = 12, 4\n",
    "\n",
    "train = pd.read_csv('TrainData.csv')\n",
    "target = 'NEXT_MONTH_DEFAULT'\n",
    "IDcol = 'Client_ID'"
   ]
  },
  {
   "cell_type": "code",
   "execution_count": 91,
   "metadata": {},
   "outputs": [],
   "source": [
    "def modelfit(alg, dtrain, predictors,useTrainCV=True, cv_folds=5, early_stopping_rounds=50):\n",
    "    \n",
    "    if useTrainCV:\n",
    "        xgb_param = alg.get_xgb_params()\n",
    "        xgtrain = xgb.DMatrix(dtrain[predictors].values, label=dtrain[target].values)\n",
    "        cvresult = xgb.cv(xgb_param, xgtrain, num_boost_round=alg.get_params()['n_estimators'], nfold=cv_folds,\n",
    "            metrics='auc', early_stopping_rounds=early_stopping_rounds, verbose_eval=None)\n",
    "        alg.set_params(n_estimators=cvresult.shape[0])\n",
    "    \n",
    "    #Fit the algorithm on the data\n",
    "    alg.fit(dtrain[predictors], dtrain['NEXT_MONTH_DEFAULT'],eval_metric='auc')\n",
    "        \n",
    "    #Predict training set:\n",
    "    dtrain_predictions = alg.predict(dtrain[predictors])\n",
    "    dtrain_predprob = alg.predict_proba(dtrain[predictors])[:,1]\n",
    "        \n",
    "    #Print model report:\n",
    "    print(\"\\nModel Report\")\n",
    "    print (\"Accuracy : %.4g\" % metrics.accuracy_score(dtrain['NEXT_MONTH_DEFAULT'].values, dtrain_predictions))\n",
    "    print (\"AUC Score (Train): %f\" % metrics.roc_auc_score(dtrain['NEXT_MONTH_DEFAULT'], dtrain_predprob))\n",
    "                    \n",
    "    feat_imp = pd.Series(alg.get_booster().get_fscore()).sort_values(ascending=False)\n",
    "    feat_imp.plot(kind='bar', title='Feature Importances')\n",
    "    plt.ylabel('Feature Importance Score')\n",
    "    \n",
    "    #importing test data\n",
    "    Test = pd.read_csv('TestData.csv')\n",
    "\n",
    "    #making copy to work with\n",
    "    Test_copy = Test.copy()\n",
    "\n",
    "    Test_copy= Test_copy.drop(['Client_ID'], axis=1)\n",
    "\n",
    "    #predicting values for test set\n",
    "    y_pred=alg.predict(Test_copy)\n",
    "\n",
    "    #Create a  DataFrame with the client ids and our prediction \n",
    "    submission = pd.DataFrame({'Client_ID':Test['Client_ID'],'NEXT_MONTH_DEFAULT':y_pred})\n",
    "\n",
    "    #Convert DataFrame to a csv file that can be uploaded\n",
    "    filename = 'XGBoost 1.csv'\n",
    "\n",
    "    submission.to_csv(filename,index=False)\n",
    "\n",
    "    print('Saved file: ' + filename)"
   ]
  },
  {
   "cell_type": "code",
   "execution_count": 116,
   "metadata": {},
   "outputs": [
    {
     "name": "stdout",
     "output_type": "stream",
     "text": [
      "\n",
      "Model Report\n",
      "Accuracy : 0.837\n",
      "AUC Score (Train): 0.847082\n",
      "Saved file: XGBoost 1.csv\n"
     ]
    },
    {
     "data": {
      "image/png": "[encoded data removed]",
      "text/plain": [
       "<Figure size 864x288 with 1 Axes>"
      ]
     },
     "metadata": {
      "needs_background": "light"
     },
     "output_type": "display_data"
    }
   ],
   "source": [
    "#Choose all predictors except target & IDcols\n",
    "predictors = [x for x in train.columns if x not in [target, IDcol]]\n",
    "xgb1 = XGBClassifier(\n",
    " learning_rate =0.099,\n",
    " max_depth=5,\n",
    " min_child_weight=1,\n",
    " gamma=0,\n",
    " subsample=0.8,\n",
    " colsample_bytree=0.8,\n",
    " objective= 'binary:logistic',\n",
    " nthread=4,\n",
    " scale_pos_weight=1,\n",
    " seed=27)\n",
    "modelfit(xgb1, train, predictors)"
   ]
  },
  {
   "cell_type": "code",
   "execution_count": 65,
   "metadata": {},
   "outputs": [
    {
     "name": "stderr",
     "output_type": "stream",
     "text": [
      "C:\\ProgramData\\Miniconda3\\envs\\sample1\\lib\\site-packages\\sklearn\\model_selection\\_search.py:825: FutureWarning: The parameter 'iid' is deprecated in 0.22 and will be removed in 0.24.\n",
      "  \"removed in 0.24.\", FutureWarning\n"
     ]
    },
    {
     "data": {
      "text/plain": [
       "({'mean_fit_time': array([1.28496814, 1.26793776, 1.24309297, 2.01788125, 2.00223627,\n",
       "         1.96888356, 2.92638159, 2.81732163, 2.80824142, 4.04019103,\n",
       "         3.90401125, 3.4892643 ]),\n",
       "  'std_fit_time': array([0.01255557, 0.01193091, 0.01764072, 0.02580398, 0.02768251,\n",
       "         0.05034188, 0.03143239, 0.02544744, 0.03533723, 0.07286999,\n",
       "         0.07589951, 0.3208887 ]),\n",
       "  'mean_score_time': array([0.01591697, 0.01562552, 0.01562576, 0.02334609, 0.01631775,\n",
       "         0.02144179, 0.01905894, 0.03119469, 0.02122045, 0.02499866,\n",
       "         0.03124719, 0.02187328]),\n",
       "  'std_score_time': array([3.10022736e-03, 1.60574515e-06, 4.37028474e-07, 6.98917663e-03,\n",
       "         2.07700090e-03, 5.02415769e-03, 6.86860088e-03, 9.88186048e-03,\n",
       "         6.93209163e-03, 7.65414932e-03, 8.97163759e-07, 7.65449975e-03]),\n",
       "  'param_max_depth': masked_array(data=[3, 3, 3, 5, 5, 5, 7, 7, 7, 9, 9, 9],\n",
       "               mask=[False, False, False, False, False, False, False, False,\n",
       "                     False, False, False, False],\n",
       "         fill_value='?',\n",
       "              dtype=object),\n",
       "  'param_min_child_weight': masked_array(data=[1, 3, 5, 1, 3, 5, 1, 3, 5, 1, 3, 5],\n",
       "               mask=[False, False, False, False, False, False, False, False,\n",
       "                     False, False, False, False],\n",
       "         fill_value='?',\n",
       "              dtype=object),\n",
       "  'params': [{'max_depth': 3, 'min_child_weight': 1},\n",
       "   {'max_depth': 3, 'min_child_weight': 3},\n",
       "   {'max_depth': 3, 'min_child_weight': 5},\n",
       "   {'max_depth': 5, 'min_child_weight': 1},\n",
       "   {'max_depth': 5, 'min_child_weight': 3},\n",
       "   {'max_depth': 5, 'min_child_weight': 5},\n",
       "   {'max_depth': 7, 'min_child_weight': 1},\n",
       "   {'max_depth': 7, 'min_child_weight': 3},\n",
       "   {'max_depth': 7, 'min_child_weight': 5},\n",
       "   {'max_depth': 9, 'min_child_weight': 1},\n",
       "   {'max_depth': 9, 'min_child_weight': 3},\n",
       "   {'max_depth': 9, 'min_child_weight': 5}],\n",
       "  'split0_test_score': array([0.75670726, 0.75497129, 0.75570134, 0.75441545, 0.75404095,\n",
       "         0.75547023, 0.74477641, 0.74934791, 0.74920832, 0.74365697,\n",
       "         0.74611417, 0.75175889]),\n",
       "  'split1_test_score': array([0.75350054, 0.75201974, 0.75238583, 0.7514889 , 0.7525919 ,\n",
       "         0.75372109, 0.75155246, 0.74777485, 0.75337948, 0.7453904 ,\n",
       "         0.74571359, 0.74901681]),\n",
       "  'split2_test_score': array([0.79021156, 0.79110296, 0.7911123 , 0.788858  , 0.78660422,\n",
       "         0.78775934, 0.78345404, 0.78423833, 0.78208851, 0.78274687,\n",
       "         0.78223313, 0.78283135]),\n",
       "  'split3_test_score': array([0.80225249, 0.80292032, 0.80199693, 0.80228157, 0.8019293 ,\n",
       "         0.80069852, 0.79748991, 0.79761387, 0.79480175, 0.79646599,\n",
       "         0.78961939, 0.79424972]),\n",
       "  'split4_test_score': array([0.78889629, 0.78905802, 0.78965334, 0.78925304, 0.78977322,\n",
       "         0.79020787, 0.78299913, 0.78870048, 0.78868232, 0.78136147,\n",
       "         0.78224576, 0.78380289]),\n",
       "  'mean_test_score': array([0.77831363, 0.77801446, 0.77816995, 0.77725939, 0.77698792,\n",
       "         0.77757141, 0.77205439, 0.77353509, 0.77363208, 0.76992434,\n",
       "         0.76918521, 0.77233193]),\n",
       "  'std_test_score': array([0.01954045, 0.02059264, 0.02018295, 0.02044724, 0.01999869,\n",
       "         0.01926467, 0.02030331, 0.0208468 , 0.01872359, 0.02140828,\n",
       "         0.01919152, 0.01837964]),\n",
       "  'rank_test_score': array([ 1,  3,  2,  5,  6,  4, 10,  8,  7, 11, 12,  9])},\n",
       " {'max_depth': 3, 'min_child_weight': 1},\n",
       " 0.778313628289898)"
      ]
     },
     "execution_count": 65,
     "metadata": {},
     "output_type": "execute_result"
    }
   ],
   "source": [
    "param_test1 = {\n",
    " 'max_depth':range(3,10,2),\n",
    " 'min_child_weight':range(1,6,2)\n",
    "}\n",
    "gsearch1 = GridSearchCV(estimator = XGBClassifier( learning_rate =0.1, max_depth=5,\n",
    " min_child_weight=1, gamma=0, subsample=0.8, colsample_bytree=0.8,\n",
    " objective= 'binary:logistic', nthread=4, scale_pos_weight=1, seed=27), \n",
    " param_grid = param_test1, scoring='roc_auc',n_jobs=4,iid=False, cv=5)\n",
    "gsearch1.fit(train[predictors],train[target])\n",
    "gsearch1.cv_results_, gsearch1.best_params_, gsearch1.best_score_"
   ]
  },
  {
   "cell_type": "markdown",
   "metadata": {},
   "source": [
    " ideal values are 3 for max_depth and 1 for min_child_weight. Lets go one step deeper and look for optimum values. "
   ]
  },
  {
   "cell_type": "code",
   "execution_count": 67,
   "metadata": {},
   "outputs": [
    {
     "name": "stderr",
     "output_type": "stream",
     "text": [
      "C:\\ProgramData\\Miniconda3\\envs\\sample1\\lib\\site-packages\\sklearn\\model_selection\\_search.py:825: FutureWarning: The parameter 'iid' is deprecated in 0.22 and will be removed in 0.24.\n",
      "  \"removed in 0.24.\", FutureWarning\n"
     ]
    },
    {
     "data": {
      "text/plain": [
       "({'mean_fit_time': array([0.9221745 , 0.96220379, 0.96971192, 1.24334869, 1.24364271,\n",
       "         1.23045707, 1.60698524, 1.6156889 , 1.40778213]),\n",
       "  'std_fit_time': array([0.00910323, 0.03466869, 0.03574978, 0.02694165, 0.02639062,\n",
       "         0.01523675, 0.01800928, 0.01611296, 0.25968451]),\n",
       "  'mean_score_time': array([0.01562495, 0.01869454, 0.01291971, 0.01562405, 0.01471868,\n",
       "         0.01669717, 0.02187381, 0.01902194, 0.01249876]),\n",
       "  'std_score_time': array([1.01601008e-06, 6.28478449e-03, 7.17853592e-03, 9.88128836e-03,\n",
       "         1.41577649e-03, 2.14493319e-03, 7.65358489e-03, 6.13602868e-03,\n",
       "         6.24938014e-03]),\n",
       "  'param_max_depth': masked_array(data=[2, 2, 2, 3, 3, 3, 4, 4, 4],\n",
       "               mask=[False, False, False, False, False, False, False, False,\n",
       "                     False],\n",
       "         fill_value='?',\n",
       "              dtype=object),\n",
       "  'param_min_child_weight': masked_array(data=[0, 1, 2, 0, 1, 2, 0, 1, 2],\n",
       "               mask=[False, False, False, False, False, False, False, False,\n",
       "                     False],\n",
       "         fill_value='?',\n",
       "              dtype=object),\n",
       "  'params': [{'max_depth': 2, 'min_child_weight': 0},\n",
       "   {'max_depth': 2, 'min_child_weight': 1},\n",
       "   {'max_depth': 2, 'min_child_weight': 2},\n",
       "   {'max_depth': 3, 'min_child_weight': 0},\n",
       "   {'max_depth': 3, 'min_child_weight': 1},\n",
       "   {'max_depth': 3, 'min_child_weight': 2},\n",
       "   {'max_depth': 4, 'min_child_weight': 0},\n",
       "   {'max_depth': 4, 'min_child_weight': 1},\n",
       "   {'max_depth': 4, 'min_child_weight': 2}],\n",
       "  'split0_test_score': array([0.75477363, 0.75461272, 0.75483078, 0.75583592, 0.75670726,\n",
       "         0.75641163, 0.75346576, 0.75450289, 0.75652356]),\n",
       "  'split1_test_score': array([0.75148732, 0.75163839, 0.75159983, 0.75359608, 0.75350054,\n",
       "         0.75370438, 0.75194342, 0.75178866, 0.75249281]),\n",
       "  'split2_test_score': array([0.79001996, 0.79025116, 0.79011852, 0.79010273, 0.79021156,\n",
       "         0.79116915, 0.78958373, 0.78869351, 0.78924817]),\n",
       "  'split3_test_score': array([0.79974316, 0.79973737, 0.79907862, 0.80185718, 0.80225249,\n",
       "         0.80284004, 0.80321087, 0.80479603, 0.80402635]),\n",
       "  'split4_test_score': array([0.78545661, 0.78544661, 0.78559083, 0.79010891, 0.78889629,\n",
       "         0.79019168, 0.79026209, 0.78988402, 0.78923106]),\n",
       "  'mean_test_score': array([0.77629614, 0.77633725, 0.77624372, 0.77830016, 0.77831363,\n",
       "         0.77886338, 0.77769317, 0.77793302, 0.77830439]),\n",
       "  'std_test_score': array([0.01949726, 0.01952502, 0.01932432, 0.0197414 , 0.01954045,\n",
       "         0.01995845, 0.02097872, 0.0210368 , 0.02020604]),\n",
       "  'rank_test_score': array([8, 7, 9, 4, 2, 1, 6, 5, 3])},\n",
       " {'max_depth': 3, 'min_child_weight': 2},\n",
       " 0.7788633789230923)"
      ]
     },
     "execution_count": 67,
     "metadata": {},
     "output_type": "execute_result"
    }
   ],
   "source": [
    "param_test2 = {\n",
    " 'max_depth':[2,3,4],\n",
    " 'min_child_weight':[0,1,2]\n",
    "}\n",
    "gsearch2 = GridSearchCV(estimator = XGBClassifier( learning_rate=0.1, max_depth=5,\n",
    " min_child_weight=2, gamma=0, subsample=0.8, colsample_bytree=0.8,\n",
    " objective= 'binary:logistic', nthread=4, scale_pos_weight=1,seed=27), \n",
    " param_grid = param_test2, scoring='roc_auc',n_jobs=4,iid=False, cv=5)\n",
    "gsearch2.fit(train[predictors],train[target])\n",
    "gsearch2.cv_results_, gsearch2.best_params_, gsearch2.best_score_"
   ]
  },
  {
   "cell_type": "markdown",
   "metadata": {},
   "source": [
    "Tuning for gamma\n",
    "'max_depth': 3, 'min_child_weight': 2"
   ]
  },
  {
   "cell_type": "code",
   "execution_count": 68,
   "metadata": {},
   "outputs": [
    {
     "name": "stderr",
     "output_type": "stream",
     "text": [
      "C:\\ProgramData\\Miniconda3\\envs\\sample1\\lib\\site-packages\\sklearn\\model_selection\\_search.py:825: FutureWarning: The parameter 'iid' is deprecated in 0.22 and will be removed in 0.24.\n",
      "  \"removed in 0.24.\", FutureWarning\n"
     ]
    },
    {
     "data": {
      "text/plain": [
       "({'mean_fit_time': array([1.27708449, 1.27315269, 1.25151448, 1.25634866, 1.09734697]),\n",
       "  'std_fit_time': array([0.00919516, 0.0148938 , 0.02154317, 0.0126496 , 0.27614099]),\n",
       "  'mean_score_time': array([0.01670103, 0.01364598, 0.01562519, 0.01250114, 0.01562381]),\n",
       "  'std_score_time': array([2.14324488e-03, 2.26672978e-03, 9.88151466e-03, 6.25057264e-03,\n",
       "         6.57274664e-07]),\n",
       "  'param_gamma': masked_array(data=[0.0, 0.1, 0.2, 0.3, 0.4],\n",
       "               mask=[False, False, False, False, False],\n",
       "         fill_value='?',\n",
       "              dtype=object),\n",
       "  'params': [{'gamma': 0.0},\n",
       "   {'gamma': 0.1},\n",
       "   {'gamma': 0.2},\n",
       "   {'gamma': 0.3},\n",
       "   {'gamma': 0.4}],\n",
       "  'split0_test_score': array([0.75641163, 0.75638345, 0.75636555, 0.75636555, 0.75632709]),\n",
       "  'split1_test_score': array([0.75370438, 0.75370438, 0.75370438, 0.75368859, 0.75286996]),\n",
       "  'split2_test_score': array([0.79116915, 0.79117441, 0.79078043, 0.79078043, 0.79062475]),\n",
       "  'split3_test_score': array([0.80284004, 0.80285057, 0.8028661 , 0.80289939, 0.80289939]),\n",
       "  'split4_test_score': array([0.79019168, 0.79019168, 0.79019168, 0.79019168, 0.79019168]),\n",
       "  'mean_test_score': array([0.77886338, 0.7788609 , 0.77878163, 0.77878513, 0.77858258]),\n",
       "  'std_test_score': array([0.01995845, 0.01996797, 0.01992773, 0.01993975, 0.02013722]),\n",
       "  'rank_test_score': array([1, 2, 4, 3, 5])},\n",
       " {'gamma': 0.0},\n",
       " 0.7788633789230923)"
      ]
     },
     "execution_count": 68,
     "metadata": {},
     "output_type": "execute_result"
    }
   ],
   "source": [
    "param_test3 = {\n",
    " 'gamma':[i/10.0 for i in range(0,5)]\n",
    "}\n",
    "gsearch3 = GridSearchCV(estimator = XGBClassifier( learning_rate =0.1, max_depth=3,\n",
    " min_child_weight=2, gamma=0, subsample=0.8, colsample_bytree=0.8,\n",
    " objective= 'binary:logistic', nthread=4, scale_pos_weight=1,seed=27), \n",
    " param_grid = param_test3, scoring='roc_auc',n_jobs=4,iid=False, cv=5)\n",
    "gsearch3.fit(train[predictors],train[target])\n",
    "gsearch3.cv_results_, gsearch3.best_params_, gsearch3.best_score_"
   ]
  },
  {
   "cell_type": "markdown",
   "metadata": {},
   "source": [
    "Tuned Model\n",
    "'max_depth': 3\n",
    "'min_child_weight': 2\n",
    "'gamma': 0.0"
   ]
  },
  {
   "cell_type": "code",
   "execution_count": 69,
   "metadata": {},
   "outputs": [
    {
     "name": "stdout",
     "output_type": "stream",
     "text": [
      "\n",
      "Model Report\n",
      "Accuracy : 0.8239\n",
      "AUC Score (Train): 0.800786\n"
     ]
    },
    {
     "data": {
      "image/png": "[encoded data removed]",
      "text/plain": [
       "<Figure size 432x288 with 1 Axes>"
      ]
     },
     "metadata": {
      "needs_background": "light"
     },
     "output_type": "display_data"
    }
   ],
   "source": [
    "xgb2 = XGBClassifier(\n",
    " learning_rate =0.1,\n",
    " max_depth=3,\n",
    " min_child_weight=2,\n",
    " gamma=0,\n",
    " subsample=0.8,\n",
    " colsample_bytree=0.8,\n",
    " objective= 'binary:logistic',\n",
    " nthread=4,\n",
    " scale_pos_weight=1,\n",
    " seed=27)\n",
    "modelfit(xgb2, train, predictors)"
   ]
  },
  {
   "cell_type": "markdown",
   "metadata": {},
   "source": [
    "Tune subsample and colsample_bytree\n",
    "'max_depth': 3\n",
    "'min_child_weight': 2\n",
    "'gamma': 0.0"
   ]
  },
  {
   "cell_type": "code",
   "execution_count": 71,
   "metadata": {},
   "outputs": [
    {
     "name": "stderr",
     "output_type": "stream",
     "text": [
      "C:\\ProgramData\\Miniconda3\\envs\\sample1\\lib\\site-packages\\sklearn\\model_selection\\_search.py:825: FutureWarning: The parameter 'iid' is deprecated in 0.22 and will be removed in 0.24.\n",
      "  \"removed in 0.24.\", FutureWarning\n"
     ]
    },
    {
     "data": {
      "text/plain": [
       "({'mean_fit_time': array([1.05600457, 1.04098873, 1.04065905, 1.04367232, 1.10166154,\n",
       "         1.11554193, 1.15702281, 1.18223667, 1.26903825, 1.22745914,\n",
       "         1.23242068, 1.23999891, 1.31568103, 1.32155886, 1.31240091,\n",
       "         1.26636705]),\n",
       "  'std_fit_time': array([0.01214149, 0.01258038, 0.0125552 , 0.0116911 , 0.02101644,\n",
       "         0.00765425, 0.03111199, 0.01626618, 0.03105859, 0.0180564 ,\n",
       "         0.01070505, 0.02151924, 0.01028265, 0.02986074, 0.01397601,\n",
       "         0.04138351]),\n",
       "  'mean_score_time': array([0.01562376, 0.01874914, 0.01249862, 0.01562462, 0.01874866,\n",
       "         0.01562495, 0.01874905, 0.01517134, 0.01531725, 0.01562409,\n",
       "         0.01969485, 0.01562457, 0.01517062, 0.01249886, 0.01902661,\n",
       "         0.01249781]),\n",
       "  'std_score_time': array([3.81469727e-07, 6.24935671e-03, 6.24930861e-03, 2.41074079e-06,\n",
       "         6.24911791e-03, 1.41773880e-06, 6.24809268e-03, 6.38839091e-04,\n",
       "         7.56957300e-04, 4.62310777e-07, 5.87262723e-03, 9.22159176e-07,\n",
       "         1.09964849e-03, 6.24942798e-03, 6.80537230e-03, 6.24890332e-03]),\n",
       "  'param_colsample_bytree': masked_array(data=[0.6, 0.6, 0.6, 0.6, 0.7, 0.7, 0.7, 0.7, 0.8, 0.8, 0.8,\n",
       "                     0.8, 0.9, 0.9, 0.9, 0.9],\n",
       "               mask=[False, False, False, False, False, False, False, False,\n",
       "                     False, False, False, False, False, False, False, False],\n",
       "         fill_value='?',\n",
       "              dtype=object),\n",
       "  'param_subsample': masked_array(data=[0.6, 0.7, 0.8, 0.9, 0.6, 0.7, 0.8, 0.9, 0.6, 0.7, 0.8,\n",
       "                     0.9, 0.6, 0.7, 0.8, 0.9],\n",
       "               mask=[False, False, False, False, False, False, False, False,\n",
       "                     False, False, False, False, False, False, False, False],\n",
       "         fill_value='?',\n",
       "              dtype=object),\n",
       "  'params': [{'colsample_bytree': 0.6, 'subsample': 0.6},\n",
       "   {'colsample_bytree': 0.6, 'subsample': 0.7},\n",
       "   {'colsample_bytree': 0.6, 'subsample': 0.8},\n",
       "   {'colsample_bytree': 0.6, 'subsample': 0.9},\n",
       "   {'colsample_bytree': 0.7, 'subsample': 0.6},\n",
       "   {'colsample_bytree': 0.7, 'subsample': 0.7},\n",
       "   {'colsample_bytree': 0.7, 'subsample': 0.8},\n",
       "   {'colsample_bytree': 0.7, 'subsample': 0.9},\n",
       "   {'colsample_bytree': 0.8, 'subsample': 0.6},\n",
       "   {'colsample_bytree': 0.8, 'subsample': 0.7},\n",
       "   {'colsample_bytree': 0.8, 'subsample': 0.8},\n",
       "   {'colsample_bytree': 0.8, 'subsample': 0.9},\n",
       "   {'colsample_bytree': 0.9, 'subsample': 0.6},\n",
       "   {'colsample_bytree': 0.9, 'subsample': 0.7},\n",
       "   {'colsample_bytree': 0.9, 'subsample': 0.8},\n",
       "   {'colsample_bytree': 0.9, 'subsample': 0.9}],\n",
       "  'split0_test_score': array([0.75609323, 0.75692322, 0.75550289, 0.7560183 , 0.75403055,\n",
       "         0.75536778, 0.75473452, 0.75665814, 0.7566908 , 0.75578127,\n",
       "         0.75641163, 0.75698827, 0.75573531, 0.75583315, 0.75526468,\n",
       "         0.75559349]),\n",
       "  'split1_test_score': array([0.7533554 , 0.7516018 , 0.75097437, 0.75212725, 0.75359213,\n",
       "         0.75115913, 0.75261243, 0.75270454, 0.7529797 , 0.75123927,\n",
       "         0.75370438, 0.75286851, 0.75232885, 0.75287509, 0.75306326,\n",
       "         0.75116373]),\n",
       "  'split2_test_score': array([0.78980257, 0.78893182, 0.78962163, 0.78925133, 0.79111954,\n",
       "         0.78986718, 0.79080359, 0.7886964 , 0.79114704, 0.7907645 ,\n",
       "         0.79116915, 0.78980704, 0.79102361, 0.78912566, 0.78952886,\n",
       "         0.78940858]),\n",
       "  'split3_test_score': array([0.80210195, 0.8031131 , 0.80219853, 0.8010575 , 0.8028557 ,\n",
       "         0.80200944, 0.80149004, 0.80230749, 0.80159018, 0.80360512,\n",
       "         0.80284004, 0.80105474, 0.80295835, 0.80295137, 0.80265239,\n",
       "         0.80063114]),\n",
       "  'split4_test_score': array([0.78760143, 0.78843085, 0.78847454, 0.79123074, 0.78695584,\n",
       "         0.78742444, 0.78989244, 0.79047645, 0.78693728, 0.7894503 ,\n",
       "         0.79019168, 0.78926028, 0.78768512, 0.78804831, 0.78929581,\n",
       "         0.78925488]),\n",
       "  'mean_test_score': array([0.77779091, 0.77780016, 0.77735439, 0.77793702, 0.77771075,\n",
       "         0.77716559, 0.77790661, 0.77816861, 0.777869  , 0.77816809,\n",
       "         0.77886338, 0.77799577, 0.77794625, 0.77776672, 0.777961  ,\n",
       "         0.77721037]),\n",
       "  'std_test_score': array([0.0194907 , 0.01999935, 0.02032126, 0.01992921, 0.02019899,\n",
       "         0.02017559, 0.02021342, 0.01977939, 0.01943825, 0.02078139,\n",
       "         0.01995845, 0.01934324, 0.02020418, 0.01984781, 0.02003486,\n",
       "         0.01994049]),\n",
       "  'rank_test_score': array([11, 10, 14,  7, 13, 16,  8,  2,  9,  3,  1,  4,  6, 12,  5, 15])},\n",
       " {'colsample_bytree': 0.8, 'subsample': 0.8},\n",
       " 0.7788633789230923)"
      ]
     },
     "execution_count": 71,
     "metadata": {},
     "output_type": "execute_result"
    }
   ],
   "source": [
    "param_test4 = {\n",
    " 'subsample':[i/10.0 for i in range(6,10)],\n",
    " 'colsample_bytree':[i/10.0 for i in range(6,10)]\n",
    "}\n",
    "gsearch4 = GridSearchCV(estimator = XGBClassifier( learning_rate =0.1, max_depth=3,\n",
    " min_child_weight=2, gamma=0, subsample=0.8, colsample_bytree=0.8,\n",
    " objective= 'binary:logistic', nthread=4, scale_pos_weight=1,seed=27), \n",
    " param_grid = param_test4, scoring='roc_auc',n_jobs=4,iid=False, cv=5)\n",
    "gsearch4.fit(train[predictors],train[target])\n",
    "gsearch4.cv_results_, gsearch4.best_params_, gsearch4.best_score_"
   ]
  },
  {
   "cell_type": "code",
   "execution_count": 73,
   "metadata": {},
   "outputs": [
    {
     "name": "stderr",
     "output_type": "stream",
     "text": [
      "C:\\ProgramData\\Miniconda3\\envs\\sample1\\lib\\site-packages\\sklearn\\model_selection\\_search.py:825: FutureWarning: The parameter 'iid' is deprecated in 0.22 and will be removed in 0.24.\n",
      "  \"removed in 0.24.\", FutureWarning\n"
     ]
    },
    {
     "data": {
      "text/plain": [
       "({'mean_fit_time': array([1.07346168, 1.07633109, 1.18824096, 1.2212347 , 1.19405141,\n",
       "         1.17316036, 1.21589541, 1.12609882, 1.38432808, 1.33024788,\n",
       "         1.24376478, 1.36324363, 1.60126972, 1.51236339, 1.43849831,\n",
       "         1.34049726]),\n",
       "  'std_fit_time': array([0.02004305, 0.00743798, 0.09771839, 0.03791808, 0.04608522,\n",
       "         0.06405776, 0.05596584, 0.01682662, 0.00933869, 0.07896747,\n",
       "         0.01218416, 0.07186976, 0.03036713, 0.13886486, 0.01646725,\n",
       "         0.04444728]),\n",
       "  'mean_score_time': array([0.01509781, 0.01399322, 0.01658978, 0.02138762, 0.01371899,\n",
       "         0.01250043, 0.01391802, 0.01809969, 0.01562476, 0.01856837,\n",
       "         0.01664438, 0.02035875, 0.01929178, 0.01694584, 0.01299272,\n",
       "         0.01255956]),\n",
       "  'std_score_time': array([1.05295235e-03, 2.09610208e-03, 2.41464645e-03, 8.39955488e-03,\n",
       "         1.85797502e-03, 6.25021463e-03, 7.46048337e-03, 4.77434778e-03,\n",
       "         1.20631319e-06, 5.23421725e-03, 3.22921807e-03, 7.64509012e-03,\n",
       "         5.61143836e-03, 7.81564343e-03, 6.65987273e-03, 4.77428340e-03]),\n",
       "  'param_colsample_bytree': masked_array(data=[0.6, 0.6, 0.6, 0.6, 0.7, 0.7, 0.7, 0.7, 0.8, 0.8, 0.8,\n",
       "                     0.8, 0.9, 0.9, 0.9, 0.9],\n",
       "               mask=[False, False, False, False, False, False, False, False,\n",
       "                     False, False, False, False, False, False, False, False],\n",
       "         fill_value='?',\n",
       "              dtype=object),\n",
       "  'param_subsample': masked_array(data=[0.6, 0.7, 0.8, 0.9, 0.6, 0.7, 0.8, 0.9, 0.6, 0.7, 0.8,\n",
       "                     0.9, 0.6, 0.7, 0.8, 0.9],\n",
       "               mask=[False, False, False, False, False, False, False, False,\n",
       "                     False, False, False, False, False, False, False, False],\n",
       "         fill_value='?',\n",
       "              dtype=object),\n",
       "  'params': [{'colsample_bytree': 0.6, 'subsample': 0.6},\n",
       "   {'colsample_bytree': 0.6, 'subsample': 0.7},\n",
       "   {'colsample_bytree': 0.6, 'subsample': 0.8},\n",
       "   {'colsample_bytree': 0.6, 'subsample': 0.9},\n",
       "   {'colsample_bytree': 0.7, 'subsample': 0.6},\n",
       "   {'colsample_bytree': 0.7, 'subsample': 0.7},\n",
       "   {'colsample_bytree': 0.7, 'subsample': 0.8},\n",
       "   {'colsample_bytree': 0.7, 'subsample': 0.9},\n",
       "   {'colsample_bytree': 0.8, 'subsample': 0.6},\n",
       "   {'colsample_bytree': 0.8, 'subsample': 0.7},\n",
       "   {'colsample_bytree': 0.8, 'subsample': 0.8},\n",
       "   {'colsample_bytree': 0.8, 'subsample': 0.9},\n",
       "   {'colsample_bytree': 0.9, 'subsample': 0.6},\n",
       "   {'colsample_bytree': 0.9, 'subsample': 0.7},\n",
       "   {'colsample_bytree': 0.9, 'subsample': 0.8},\n",
       "   {'colsample_bytree': 0.9, 'subsample': 0.9}],\n",
       "  'split0_test_score': array([0.75609323, 0.75692322, 0.75550289, 0.7560183 , 0.75403055,\n",
       "         0.75536778, 0.75473452, 0.75665814, 0.7566908 , 0.75578127,\n",
       "         0.75641163, 0.75698827, 0.75573531, 0.75583315, 0.75526468,\n",
       "         0.75559349]),\n",
       "  'split1_test_score': array([0.7533554 , 0.7516018 , 0.75097437, 0.75212725, 0.75359213,\n",
       "         0.75115913, 0.75261243, 0.75270454, 0.7529797 , 0.75123927,\n",
       "         0.75370438, 0.75286851, 0.75232885, 0.75287509, 0.75306326,\n",
       "         0.75116373]),\n",
       "  'split2_test_score': array([0.78980257, 0.78893182, 0.78962163, 0.78925133, 0.79111954,\n",
       "         0.78986718, 0.79080359, 0.7886964 , 0.79114704, 0.7907645 ,\n",
       "         0.79116915, 0.78980704, 0.79102361, 0.78912566, 0.78952886,\n",
       "         0.78940858]),\n",
       "  'split3_test_score': array([0.80210195, 0.8031131 , 0.80219853, 0.8010575 , 0.8028557 ,\n",
       "         0.80200944, 0.80149004, 0.80230749, 0.80159018, 0.80360512,\n",
       "         0.80284004, 0.80105474, 0.80295835, 0.80295137, 0.80265239,\n",
       "         0.80063114]),\n",
       "  'split4_test_score': array([0.78760143, 0.78843085, 0.78847454, 0.79123074, 0.78695584,\n",
       "         0.78742444, 0.78989244, 0.79047645, 0.78693728, 0.7894503 ,\n",
       "         0.79019168, 0.78926028, 0.78768512, 0.78804831, 0.78929581,\n",
       "         0.78925488]),\n",
       "  'mean_test_score': array([0.77779091, 0.77780016, 0.77735439, 0.77793702, 0.77771075,\n",
       "         0.77716559, 0.77790661, 0.77816861, 0.777869  , 0.77816809,\n",
       "         0.77886338, 0.77799577, 0.77794625, 0.77776672, 0.777961  ,\n",
       "         0.77721037]),\n",
       "  'std_test_score': array([0.0194907 , 0.01999935, 0.02032126, 0.01992921, 0.02019899,\n",
       "         0.02017559, 0.02021342, 0.01977939, 0.01943825, 0.02078139,\n",
       "         0.01995845, 0.01934324, 0.02020418, 0.01984781, 0.02003486,\n",
       "         0.01994049]),\n",
       "  'rank_test_score': array([11, 10, 14,  7, 13, 16,  8,  2,  9,  3,  1,  4,  6, 12,  5, 15])},\n",
       " {'colsample_bytree': 0.8, 'subsample': 0.8},\n",
       " 0.7788633789230923)"
      ]
     },
     "execution_count": 73,
     "metadata": {},
     "output_type": "execute_result"
    }
   ],
   "source": [
    "param_test5 = {\n",
    " 'subsample':[i/100.0 for i in range(75,90,5)],\n",
    " 'colsample_bytree':[i/100.0 for i in range(75,90,5)]\n",
    "}\n",
    "gsearch4 = GridSearchCV(estimator = XGBClassifier( learning_rate =0.1, max_depth=3,\n",
    " min_child_weight=2, gamma=0, subsample=0.8, colsample_bytree=0.8,\n",
    " objective= 'binary:logistic', nthread=4, scale_pos_weight=1,seed=27), \n",
    " param_grid = param_test4, scoring='roc_auc',n_jobs=4,iid=False, cv=5)\n",
    "gsearch4.fit(train[predictors],train[target])\n",
    "gsearch4.cv_results_, gsearch4.best_params_, gsearch4.best_score_"
   ]
  },
  {
   "cell_type": "markdown",
   "metadata": {},
   "source": [
    "subsample: 0.8\n",
    "colsample_bytree: 0.8\n",
    "'max_depth': 3\n",
    "'min_child_weight': 2\n",
    "'gamma': 0.0\n",
    "Tuning Regularization Parameters"
   ]
  },
  {
   "cell_type": "code",
   "execution_count": 75,
   "metadata": {},
   "outputs": [
    {
     "name": "stderr",
     "output_type": "stream",
     "text": [
      "C:\\ProgramData\\Miniconda3\\envs\\sample1\\lib\\site-packages\\sklearn\\model_selection\\_search.py:825: FutureWarning: The parameter 'iid' is deprecated in 0.22 and will be removed in 0.24.\n",
      "  \"removed in 0.24.\", FutureWarning\n"
     ]
    },
    {
     "data": {
      "text/plain": [
       "({'mean_fit_time': array([1.41009712, 1.43547306, 1.3456162 , 1.34926867, 1.01481066]),\n",
       "  'std_fit_time': array([0.01353788, 0.01852879, 0.08596336, 0.03144356, 0.26751479]),\n",
       "  'mean_score_time': array([0.02161946, 0.01464472, 0.01376343, 0.01362324, 0.01219325]),\n",
       "  'std_score_time': array([0.00814284, 0.00256712, 0.00685548, 0.00491524, 0.00292427]),\n",
       "  'param_reg_alpha': masked_array(data=[1e-05, 0.01, 0.1, 1, 100],\n",
       "               mask=[False, False, False, False, False],\n",
       "         fill_value='?',\n",
       "              dtype=object),\n",
       "  'params': [{'reg_alpha': 1e-05},\n",
       "   {'reg_alpha': 0.01},\n",
       "   {'reg_alpha': 0.1},\n",
       "   {'reg_alpha': 1},\n",
       "   {'reg_alpha': 100}],\n",
       "  'split0_test_score': array([0.7564119 , 0.75596418, 0.75570516, 0.75597102, 0.75622939]),\n",
       "  'split1_test_score': array([0.75370464, 0.75316499, 0.751713  , 0.75334079, 0.74696713]),\n",
       "  'split2_test_score': array([0.79116915, 0.79104677, 0.79069818, 0.79033578, 0.78879023]),\n",
       "  'split3_test_score': array([0.80284004, 0.80284162, 0.80234631, 0.80455943, 0.7980122 ]),\n",
       "  'split4_test_score': array([0.79019168, 0.79014734, 0.78947556, 0.79087925, 0.78388593]),\n",
       "  'mean_test_score': array([0.77886348, 0.77863298, 0.77798764, 0.77901725, 0.77477697]),\n",
       "  'std_test_score': array([0.01995833, 0.0201754 , 0.02036537, 0.02055056, 0.01968055]),\n",
       "  'rank_test_score': array([2, 3, 4, 1, 5])},\n",
       " {'reg_alpha': 1},\n",
       " 0.7790172545071166)"
      ]
     },
     "execution_count": 75,
     "metadata": {},
     "output_type": "execute_result"
    }
   ],
   "source": [
    "param_test6 = {\n",
    " 'reg_alpha':[1e-5, 1e-2, 0.1, 1, 100]\n",
    "}\n",
    "gsearch6 = GridSearchCV(estimator = XGBClassifier( learning_rate =0.1, max_depth=3,\n",
    " min_child_weight=2, gamma=0.0, subsample=0.8, colsample_bytree=0.8,\n",
    " objective= 'binary:logistic', nthread=4, scale_pos_weight=1,seed=27), \n",
    " param_grid = param_test6, scoring='roc_auc',n_jobs=4,iid=False, cv=5)\n",
    "gsearch6.fit(train[predictors],train[target])\n",
    "gsearch6.cv_results_, gsearch6.best_params_, gsearch6.best_score_\n"
   ]
  },
  {
   "cell_type": "code",
   "execution_count": 78,
   "metadata": {},
   "outputs": [
    {
     "name": "stderr",
     "output_type": "stream",
     "text": [
      "C:\\ProgramData\\Miniconda3\\envs\\sample1\\lib\\site-packages\\sklearn\\model_selection\\_search.py:825: FutureWarning: The parameter 'iid' is deprecated in 0.22 and will be removed in 0.24.\n",
      "  \"removed in 0.24.\", FutureWarning\n"
     ]
    },
    {
     "data": {
      "text/plain": [
       "({'mean_fit_time': array([1.29074273, 1.29587889, 1.28163171, 1.28201852, 1.11942749]),\n",
       "  'std_fit_time': array([0.01356018, 0.0071943 , 0.01513304, 0.01673532, 0.3006235 ]),\n",
       "  'mean_score_time': array([0.01599026, 0.01399226, 0.01497111, 0.01471968, 0.0127933 ]),\n",
       "  'std_score_time': array([0.00352007, 0.00227904, 0.0007988 , 0.00244771, 0.00256046]),\n",
       "  'param_reg_alpha': masked_array(data=[0.9, 0.95, 1, 1.05, 1.1],\n",
       "               mask=[False, False, False, False, False],\n",
       "         fill_value='?',\n",
       "              dtype=object),\n",
       "  'params': [{'reg_alpha': 0.9},\n",
       "   {'reg_alpha': 0.95},\n",
       "   {'reg_alpha': 1},\n",
       "   {'reg_alpha': 1.05},\n",
       "   {'reg_alpha': 1.1}],\n",
       "  'split0_test_score': array([0.75576863, 0.7555237 , 0.75597102, 0.75610494, 0.75630537]),\n",
       "  'split1_test_score': array([0.75330618, 0.75350476, 0.75334079, 0.75275468, 0.75290101]),\n",
       "  'split2_test_score': array([0.79134509, 0.7905179 , 0.79033578, 0.7910444 , 0.7911877 ]),\n",
       "  'split3_test_score': array([0.80321864, 0.80305125, 0.80455943, 0.8033597 , 0.80351274]),\n",
       "  'split4_test_score': array([0.79064805, 0.79059475, 0.79087925, 0.79109717, 0.79088096]),\n",
       "  'mean_test_score': array([0.77885732, 0.77863847, 0.77901725, 0.77887218, 0.77895756]),\n",
       "  'std_test_score': array([0.02036854, 0.02022896, 0.02055056, 0.02048279, 0.02042923]),\n",
       "  'rank_test_score': array([4, 5, 1, 3, 2])},\n",
       " {'reg_alpha': 1},\n",
       " 0.7790172545071166)"
      ]
     },
     "execution_count": 78,
     "metadata": {},
     "output_type": "execute_result"
    }
   ],
   "source": [
    "param_test7 = {\n",
    " 'reg_alpha':[0.9, 0.95, 1, 1.05, 1.1]\n",
    "}\n",
    "gsearch7 = GridSearchCV(estimator = XGBClassifier( learning_rate =0.1, max_depth=3,\n",
    " min_child_weight=2, gamma=0.0, subsample=0.8, colsample_bytree=0.8,\n",
    " objective= 'binary:logistic', nthread=4, scale_pos_weight=1,seed=27), \n",
    " param_grid = param_test7, scoring='roc_auc',n_jobs=4,iid=False, cv=5)\n",
    "gsearch7.fit(train[predictors],train[target])\n",
    "gsearch7.cv_results_, gsearch7.best_params_, gsearch7.best_score_"
   ]
  },
  {
   "cell_type": "markdown",
   "metadata": {},
   "source": [
    "subsample: 0.8\n",
    "colsample_bytree: 0.8\n",
    "'max_depth': 3\n",
    "'min_child_weight': 2\n",
    "'gamma': 0.0\n",
    "'reg_alpha': 1`"
   ]
  },
  {
   "cell_type": "code",
   "execution_count": 79,
   "metadata": {},
   "outputs": [
    {
     "name": "stdout",
     "output_type": "stream",
     "text": [
      "\n",
      "Model Report\n",
      "Accuracy : 0.8229\n",
      "AUC Score (Train): 0.799757\n"
     ]
    },
    {
     "data": {
      "image/png": "[encoded data removed]",
      "text/plain": [
       "<Figure size 432x288 with 1 Axes>"
      ]
     },
     "metadata": {
      "needs_background": "light"
     },
     "output_type": "display_data"
    }
   ],
   "source": [
    "xgb3 = XGBClassifier(\n",
    " learning_rate =0.1,\n",
    " max_depth=3,\n",
    " min_child_weight=2,\n",
    " gamma=0,\n",
    " subsample=0.8,\n",
    " colsample_bytree=0.8,\n",
    " reg_alpha=1,\n",
    " objective= 'binary:logistic',\n",
    " nthread=4,\n",
    " scale_pos_weight=1,\n",
    " seed=27)\n",
    "modelfit(xgb3, train, predictors)\n"
   ]
  },
  {
   "cell_type": "code",
   "execution_count": 105,
   "metadata": {},
   "outputs": [
    {
     "name": "stderr",
     "output_type": "stream",
     "text": [
      "C:\\ProgramData\\Miniconda3\\envs\\sample1\\lib\\site-packages\\sklearn\\model_selection\\_search.py:825: FutureWarning: The parameter 'iid' is deprecated in 0.22 and will be removed in 0.24.\n",
      "  \"removed in 0.24.\", FutureWarning\n"
     ]
    },
    {
     "data": {
      "text/plain": [
       "({'mean_fit_time': array([2.05833726, 2.11104541, 2.12478261, 2.11444783, 2.10995879,\n",
       "         2.20771437, 2.14755921, 2.12234855, 2.16665301, 2.12224808,\n",
       "         2.10000682, 2.08544731, 2.12231994, 2.13821383, 2.194168  ,\n",
       "         2.25241017, 2.42616043, 2.35872297, 2.29966793, 2.29581928,\n",
       "         2.04607978]),\n",
       "  'std_fit_time': array([0.01739834, 0.01384469, 0.0021233 , 0.00801809, 0.03433244,\n",
       "         0.01600891, 0.01169129, 0.02975344, 0.01520996, 0.04044578,\n",
       "         0.02337563, 0.01511646, 0.01838071, 0.02294383, 0.02895548,\n",
       "         0.05588503, 0.04295863, 0.02547597, 0.07204354, 0.03881566,\n",
       "         0.52245861]),\n",
       "  'mean_score_time': array([0.01297245, 0.01644402, 0.01874833, 0.02189975, 0.02209635,\n",
       "         0.01569824, 0.01874943, 0.01874981, 0.01909633, 0.01874914,\n",
       "         0.01874967, 0.01874948, 0.01874971, 0.01874986, 0.01874838,\n",
       "         0.01931429, 0.01874981, 0.01562371, 0.01562448, 0.02501769,\n",
       "         0.01851592]),\n",
       "  'std_score_time': array([6.55058634e-03, 6.69406438e-04, 6.24892715e-03, 7.68664063e-03,\n",
       "         7.93285612e-03, 1.46275843e-04, 6.24969006e-03, 6.24902276e-03,\n",
       "         6.94217694e-03, 6.24840266e-03, 6.24921373e-03, 6.24907023e-03,\n",
       "         6.24918947e-03, 6.24923708e-03, 6.24878407e-03, 4.32934783e-03,\n",
       "         6.24926100e-03, 9.88136375e-03, 1.30063836e-06, 5.84916177e-03,\n",
       "         3.97801114e-03]),\n",
       "  'param_learning_rate': masked_array(data=[0.0, 0.01, 0.02, 0.03, 0.04, 0.05, 0.06, 0.07, 0.08,\n",
       "                     0.09, 0.1, 0.11, 0.12, 0.13, 0.14, 0.15, 0.16, 0.17,\n",
       "                     0.18, 0.19, 0.2],\n",
       "               mask=[False, False, False, False, False, False, False, False,\n",
       "                     False, False, False, False, False, False, False, False,\n",
       "                     False, False, False, False, False],\n",
       "         fill_value='?',\n",
       "              dtype=object),\n",
       "  'params': [{'learning_rate': 0.0},\n",
       "   {'learning_rate': 0.01},\n",
       "   {'learning_rate': 0.02},\n",
       "   {'learning_rate': 0.03},\n",
       "   {'learning_rate': 0.04},\n",
       "   {'learning_rate': 0.05},\n",
       "   {'learning_rate': 0.06},\n",
       "   {'learning_rate': 0.07},\n",
       "   {'learning_rate': 0.08},\n",
       "   {'learning_rate': 0.09},\n",
       "   {'learning_rate': 0.1},\n",
       "   {'learning_rate': 0.11},\n",
       "   {'learning_rate': 0.12},\n",
       "   {'learning_rate': 0.13},\n",
       "   {'learning_rate': 0.14},\n",
       "   {'learning_rate': 0.15},\n",
       "   {'learning_rate': 0.16},\n",
       "   {'learning_rate': 0.17},\n",
       "   {'learning_rate': 0.18},\n",
       "   {'learning_rate': 0.19},\n",
       "   {'learning_rate': 0.2}],\n",
       "  'split0_test_score': array([0.5       , 0.75440566, 0.75869099, 0.75943689, 0.75849302,\n",
       "         0.75794924, 0.75739327, 0.7569589 , 0.75604907, 0.75508009,\n",
       "         0.75304865, 0.75497294, 0.75142271, 0.74935598, 0.75014433,\n",
       "         0.74891909, 0.74844439, 0.74820799, 0.74786041, 0.74282831,\n",
       "         0.74457661]),\n",
       "  'split1_test_score': array([0.5       , 0.75004685, 0.75265624, 0.75424224, 0.75470965,\n",
       "         0.7548531 , 0.75454258, 0.75311184, 0.75413572, 0.75400357,\n",
       "         0.75063963, 0.75128001, 0.74999334, 0.75423433, 0.75410683,\n",
       "         0.75102024, 0.75332362, 0.74958334, 0.74974312, 0.74784396,\n",
       "         0.74567473]),\n",
       "  'split2_test_score': array([0.5       , 0.79110873, 0.79222531, 0.79251925, 0.79342317,\n",
       "         0.79323437, 0.79377439, 0.79326364, 0.79257251, 0.78998386,\n",
       "         0.78830678, 0.78854005, 0.78455506, 0.78872294, 0.78836494,\n",
       "         0.78564904, 0.78346059, 0.78662443, 0.7819909 , 0.77675217,\n",
       "         0.77881048]),\n",
       "  'split3_test_score': array([0.5       , 0.79625753, 0.79943393, 0.80184108, 0.80268947,\n",
       "         0.80258572, 0.80334581, 0.80425186, 0.80223638, 0.80300301,\n",
       "         0.8026018 , 0.79897544, 0.79801022, 0.79675446, 0.79809752,\n",
       "         0.79557243, 0.79703433, 0.79499134, 0.7921296 , 0.79639168,\n",
       "         0.79612526]),\n",
       "  'split4_test_score': array([0.5       , 0.78735124, 0.79254186, 0.79490705, 0.79651981,\n",
       "         0.79578962, 0.79503065, 0.79419356, 0.79443612, 0.79234452,\n",
       "         0.79270202, 0.79127203, 0.79033256, 0.7909193 , 0.7879842 ,\n",
       "         0.78838102, 0.78800883, 0.78377312, 0.7803897 , 0.78442229,\n",
       "         0.77676925]),\n",
       "  'mean_test_score': array([0.5       , 0.775834  , 0.77910967, 0.7805893 , 0.78116703,\n",
       "         0.78088241, 0.78081734, 0.78035596, 0.77988596, 0.77888301,\n",
       "         0.77745978, 0.77700809, 0.77486278, 0.7759974 , 0.77573957,\n",
       "         0.77390836, 0.77405435, 0.77263604, 0.77042275, 0.76964768,\n",
       "         0.76839126]),\n",
       "  'std_test_score': array([0.        , 0.01953067, 0.0194022 , 0.01970052, 0.02031374,\n",
       "         0.02024492, 0.02057418, 0.02106545, 0.02051082, 0.02035574,\n",
       "         0.02143515, 0.01983176, 0.02018408, 0.01999427, 0.01965859,\n",
       "         0.01982404, 0.01947777, 0.01973639, 0.0181166 , 0.02087432,\n",
       "         0.02015492]),\n",
       "  'rank_test_score': array([21, 12,  7,  4,  1,  2,  3,  5,  6,  8,  9, 10, 14, 11, 13, 16, 15,\n",
       "         17, 18, 19, 20])},\n",
       " {'learning_rate': 0.04},\n",
       " 0.7811670255881003)"
      ]
     },
     "execution_count": 105,
     "metadata": {},
     "output_type": "execute_result"
    }
   ],
   "source": [
    "param_test7 = {\n",
    " 'learning_rate':[i/100.0 for i in range(0,21,1)]\n",
    "}\n",
    "gsearch7 = GridSearchCV(estimator = XGBClassifier(\n",
    " learning_rate =0.09,\n",
    " max_depth=5,\n",
    " min_child_weight=1,\n",
    " gamma=0,\n",
    " subsample=0.8,\n",
    " colsample_bytree=0.8,\n",
    " objective= 'binary:logistic',\n",
    " nthread=4,\n",
    " scale_pos_weight=1,\n",
    " seed=27), \n",
    " param_grid = param_test7, scoring='roc_auc',n_jobs=4,iid=False, cv=5)\n",
    "gsearch7.fit(train[predictors],train[target])\n",
    "gsearch7.cv_results_, gsearch7.best_params_, gsearch7.best_score_"
   ]
  },
  {
   "cell_type": "code",
   "execution_count": 99,
   "metadata": {},
   "outputs": [
    {
     "name": "stdout",
     "output_type": "stream",
     "text": [
      "\n",
      "Model Report\n",
      "Accuracy : 0.8244\n",
      "AUC Score (Train): 0.803234\n",
      "Saved file: XGBoost 1.csv\n"
     ]
    },
    {
     "data": {
      "image/png": "[encoded data removed]",
      "text/plain": [
       "<Figure size 864x288 with 1 Axes>"
      ]
     },
     "metadata": {
      "needs_background": "light"
     },
     "output_type": "display_data"
    }
   ],
   "source": [
    "xgb4 = XGBClassifier(\n",
    " learning_rate =0.1,\n",
    " max_depth=3,\n",
    " n_estimators=5000,\n",
    " min_child_weight=2,\n",
    " gamma=0,\n",
    " subsample=0.8,\n",
    " colsample_bytree=0.8,\n",
    " reg_alpha=1,\n",
    " objective= 'binary:logistic',\n",
    " nthread=4,\n",
    " scale_pos_weight=1,\n",
    " seed=27)\n",
    "modelfit(xgb4, train, predictors)\n"
   ]
  }
 ],
 "metadata": {
  "kernelspec": {
   "display_name": "Python 3.7.4",
   "language": "python",
   "name": "sample1"
  },
  "language_info": {
   "codemirror_mode": {
    "name": "ipython",
    "version": 3
   },
   "file_extension": ".py",
   "mimetype": "text/x-python",
   "name": "python",
   "nbconvert_exporter": "python",
   "pygments_lexer": "ipython3",
   "version": "3.7.6"
  }
 },
 "nbformat": 4,
 "nbformat_minor": 2
}
