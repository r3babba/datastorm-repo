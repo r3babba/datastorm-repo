{
 "cells": [
  {
   "cell_type": "code",
   "execution_count": 2,
   "metadata": {},
   "outputs": [],
   "source": [
    "import pandas as pd\n",
    "import numpy as np\n",
    "pd.set_option('display.max_rows', 1000)\n",
    "from sklearn.preprocessing import LabelEncoder\n",
    "from sklearn.model_selection import train_test_split\n",
    "from sklearn.ensemble import RandomForestClassifier\n",
    "from sklearn import metrics\n",
    "import matplotlib.pyplot as plt\n",
    "import seaborn as sns\n",
    "\n",
    "from imblearn.under_sampling import RandomUnderSampler\n",
    "from imblearn.over_sampling import SMOTE\n",
    "from imblearn.combine import SMOTEENN\n",
    "from imblearn.combine import SMOTETomek\n",
    "from sklearn.metrics import accuracy_score\n",
    "from sklearn.metrics import confusion_matrix"
   ]
  },
  {
   "cell_type": "code",
   "execution_count": 3,
   "metadata": {},
   "outputs": [],
   "source": [
    "#importing data\n",
    "df = pd.read_csv('TrainData.csv')\n",
    "\n",
    "#making copy to work with\n",
    "df_copy = df.copy()\n",
    "\n",
    "X = df_copy.drop(['NEXT_MONTH_DEFAULT','Client_ID'], axis=1)\n",
    "y = df_copy[\"NEXT_MONTH_DEFAULT\"]\n",
    "\n",
    "#splitting training and testing sets\n",
    "X_train, X_test, y_train, y_test = train_test_split(X, y, test_size=0.3) # 70% training and 30% test"
   ]
  },
  {
   "cell_type": "code",
   "execution_count": 4,
   "metadata": {},
   "outputs": [
    {
     "name": "stdout",
     "output_type": "stream",
     "text": [
      "Accuracy: 0.8181944444444444\n",
      "[[5319  255]\n",
      " [1054  572]]\n",
      "PAY_JULY            0.236414\n",
      "Pay_Time            0.122392\n",
      "PAY_AUG             0.108451\n",
      "PAY_SEP             0.065324\n",
      "PAY_OCT             0.037383\n",
      "PAID_AMT_JULY       0.037277\n",
      "DUE_AMT_JULY        0.036799\n",
      "PAID_AMT_SEP        0.034796\n",
      "PAY_NOV             0.031916\n",
      "DUE_AMT_AUG         0.027186\n",
      "PAY_DEC             0.027169\n",
      "PAID_AMT_AUG        0.026998\n",
      "DUE_AMT_NOV         0.025477\n",
      "PAID_AMT_OCT        0.025225\n",
      "Balance_Limit_V1    0.024773\n",
      "DUE_AMT_SEP         0.024634\n",
      "DUE_AMT_OCT         0.024352\n",
      "DUE_AMT_DEC         0.020878\n",
      "PAID_AMT_DEC        0.020449\n",
      "PAID_AMT_NOV        0.020399\n",
      "Gender              0.006202\n",
      "EDUCATION_STATUS    0.005002\n",
      "AGE                 0.004562\n",
      "MARITAL_STATUS      0.004223\n",
      "NO_PAY_DEC          0.001719\n",
      "dtype: float64\n"
     ]
    }
   ],
   "source": [
    "#clf=RandomForestClassifier(min_samples_leaf = 25, bootstrap = False)\n",
    "clf=RandomForestClassifier(random_state=0, min_samples_leaf = 25, bootstrap = False)\n",
    "\n",
    "#Train the model using the training sets\n",
    "clf.fit(X_train,y_train)\n",
    "\n",
    "y_pred=clf.predict(X_test)\n",
    "\n",
    "# Model Accuracy, how often is the classifier correct?\n",
    "accuracy = metrics.accuracy_score(y_test, y_pred)\n",
    "print(\"Accuracy:\",metrics.accuracy_score(y_test, y_pred))\n",
    "\n",
    "cm = confusion_matrix(y_test, y_pred)\n",
    "print(cm)\n",
    "\n",
    "feature_imp = pd.Series(clf.feature_importances_,index=X.columns).sort_values(ascending=False)\n",
    "print(feature_imp)"
   ]
  },
  {
   "cell_type": "code",
   "execution_count": 5,
   "metadata": {},
   "outputs": [
    {
     "name": "stdout",
     "output_type": "stream",
     "text": [
      "Saved file: DataStorm Predictions 2.csv\n"
     ]
    }
   ],
   "source": [
    "#importing test data\n",
    "Test = pd.read_csv('TestData.csv')\n",
    "\n",
    "#making copy to work with\n",
    "Test_copy = Test.copy()\n",
    "\n",
    "Test_copy= Test_copy.drop(['Client_ID'], axis=1)\n",
    "\n",
    "#Train the model using the complete training set using the model parameters defined above\n",
    "clf.fit(X, y)\n",
    "\n",
    "#predicting values for test set\n",
    "y_pred=clf.predict(Test_copy)\n",
    "\n",
    "#Create a  DataFrame with the client ids and our prediction \n",
    "submission = pd.DataFrame({'Client_ID':Test['Client_ID'],'NEXT_MONTH_DEFAULT':y_pred})\n",
    "\n",
    "#Convert DataFrame to a csv file that can be uploaded\n",
    "filename = 'DataStorm Predictions 2.csv'\n",
    "\n",
    "submission.to_csv(filename,index=False)\n",
    "\n",
    "print('Saved file: ' + filename)"
   ]
  }
 ],
 "metadata": {
  "kernelspec": {
   "display_name": "Python 3.7.4",
   "language": "python",
   "name": "sample1"
  },
  "language_info": {
   "codemirror_mode": {
    "name": "ipython",
    "version": 3
   },
   "file_extension": ".py",
   "mimetype": "text/x-python",
   "name": "python",
   "nbconvert_exporter": "python",
   "pygments_lexer": "ipython3",
   "version": "3.7.6"
  }
 },
 "nbformat": 4,
 "nbformat_minor": 2
}
