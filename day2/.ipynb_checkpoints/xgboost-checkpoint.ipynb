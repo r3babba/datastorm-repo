{
 "cells": [
  {
   "cell_type": "code",
   "execution_count": 121,
   "metadata": {},
   "outputs": [],
   "source": [
    "import pandas as pd\n",
    "import numpy as np\n",
    "pd.set_option('display.max_rows', 1000)\n",
    "from sklearn.model_selection import train_test_split\n",
    "from sklearn import metrics\n",
    "import matplotlib.pyplot as plt\n",
    "import seaborn as sns\n",
    "\n",
    "from collections import Counter\n",
    "from numpy import mean\n",
    "from sklearn.datasets import make_classification\n",
    "from sklearn.model_selection import cross_val_score\n",
    "from sklearn.model_selection import RepeatedStratifiedKFold\n",
    "from xgboost import XGBClassifier\n",
    "\n",
    "from imblearn.under_sampling import RandomUnderSampler\n",
    "from imblearn.over_sampling import SMOTE\n",
    "from imblearn.combine import SMOTEENN\n",
    "from imblearn.combine import SMOTETomek\n",
    "from sklearn.metrics import accuracy_score\n",
    "from sklearn.metrics import confusion_matrix"
   ]
  },
  {
   "cell_type": "code",
   "execution_count": 81,
   "metadata": {},
   "outputs": [],
   "source": [
    "#importing data\n",
    "df = pd.read_csv('clean_df.csv')\n",
    "\n",
    "#making copy to work with\n",
    "df_copy = df.copy()\n",
    "\n",
    "X = df_copy.drop(['NEXT_MONTH_DEFAULT','Client_ID'], axis=1)\n",
    "y = df_copy[\"NEXT_MONTH_DEFAULT\"]\n",
    "\n",
    "#splitting training and testing sets\n",
    "X_train, X_test, y_train, y_test = train_test_split(X, y, test_size=0.3) # 70% training and 30% test"
   ]
  },
  {
   "cell_type": "code",
   "execution_count": 93,
   "metadata": {},
   "outputs": [
    {
     "name": "stdout",
     "output_type": "stream",
     "text": [
      "Counter({0: 18286, 1: 5194})\n"
     ]
    },
    {
     "data": {
      "image/png": "[encoded data removed]",
      "text/plain": [
       "<Figure size 432x288 with 1 Axes>"
      ]
     },
     "metadata": {
      "needs_background": "light"
     },
     "output_type": "display_data"
    }
   ],
   "source": [
    "# Generate and plot a synthetic imbalanced classification dataset\n",
    "from collections import Counter\n",
    "from sklearn.datasets import make_classification\n",
    "from matplotlib import pyplot\n",
    "from numpy import where\n",
    "# summarize class distribution\n",
    "counter = Counter(y)\n",
    "print(counter)\n",
    "# scatter plot of examples by class label\n",
    "for label, _ in counter.items():\n",
    "\trow_ix = where(y == label)[0]\n",
    "\tpyplot.scatter(X.iloc[row_ix, 11:12], X.iloc[row_ix,17], label=str(label))\n",
    "pyplot.legend()\n",
    "pyplot.show()"
   ]
  },
  {
   "cell_type": "code",
   "execution_count": 117,
   "metadata": {},
   "outputs": [
    {
     "name": "stdout",
     "output_type": "stream",
     "text": [
      "Mean ROC AUC: 0.81911\n"
     ]
    }
   ],
   "source": [
    "# define model\n",
    "model = XGBClassifier()\n",
    "# define evaluation procedure\n",
    "cv = RepeatedStratifiedKFold(n_splits=10, n_repeats=3, random_state=1)\n",
    "# evaluate model\n",
    "scores = cross_val_score(model, X, y, cv=cv, n_jobs=-1)\n",
    "# summarize performance\n",
    "print('\"Accuracy: %.5f' % mean(scores))"
   ]
  },
  {
   "cell_type": "code",
   "execution_count": 118,
   "metadata": {},
   "outputs": [
    {
     "name": "stdout",
     "output_type": "stream",
     "text": [
      "Mean ROC AUC: 0.22792\n"
     ]
    }
   ],
   "source": [
    "# define model\n",
    "model = XGBClassifier(scale_pos_weight=99)\n",
    "# define evaluation procedure\n",
    "cv = RepeatedStratifiedKFold(n_splits=10, n_repeats=3, random_state=1)\n",
    "# evaluate model\n",
    "scores = cross_val_score(model, X, y, cv=cv, n_jobs=-1)\n",
    "# summarize performance\n",
    "print('\"Accuracy: %.5f' % mean(scores))"
   ]
  },
  {
   "cell_type": "code",
   "execution_count": 119,
   "metadata": {},
   "outputs": [
    {
     "name": "stdout",
     "output_type": "stream",
     "text": [
      "Best: 0.819108 using {'scale_pos_weight': 1}\n",
      "0.819108 (0.004939) with: {'scale_pos_weight': 1}\n",
      "0.449546 (0.011866) with: {'scale_pos_weight': 10}\n",
      "0.262422 (0.004551) with: {'scale_pos_weight': 25}\n",
      "0.233745 (0.003040) with: {'scale_pos_weight': 50}\n",
      "0.229259 (0.002503) with: {'scale_pos_weight': 75}\n",
      "0.227924 (0.002325) with: {'scale_pos_weight': 99}\n",
      "0.227683 (0.002334) with: {'scale_pos_weight': 100}\n",
      "0.225028 (0.001367) with: {'scale_pos_weight': 1000}\n"
     ]
    }
   ],
   "source": [
    "# grid search positive class weights with xgboost for imbalance classification\n",
    "from numpy import mean\n",
    "from sklearn.datasets import make_classification\n",
    "from sklearn.model_selection import GridSearchCV\n",
    "from sklearn.model_selection import RepeatedStratifiedKFold\n",
    "from xgboost import XGBClassifier\n",
    "\n",
    "# define model\n",
    "model = XGBClassifier()\n",
    "# define grid\n",
    "weights = [1, 10, 25, 50, 75, 99, 100, 1000]\n",
    "param_grid = dict(scale_pos_weight=weights)\n",
    "# define evaluation procedure\n",
    "cv = RepeatedStratifiedKFold(n_splits=10, n_repeats=3, random_state=1)\n",
    "# define grid search\n",
    "grid = GridSearchCV(estimator=model, param_grid=param_grid, n_jobs=-1, cv=cv)\n",
    "# execute the grid search\n",
    "grid_result = grid.fit(X, y)\n",
    "# report the best configuration\n",
    "print(\"Best: %f using %s\" % (grid_result.best_score_, grid_result.best_params_))\n",
    "# report all configurations\n",
    "means = grid_result.cv_results_['mean_test_score']\n",
    "stds = grid_result.cv_results_['std_test_score']\n",
    "params = grid_result.cv_results_['params']\n",
    "for mean, stdev, param in zip(means, stds, params):\n",
    "    print(\"%f (%f) with: %r\" % (mean, stdev, param))"
   ]
  },
  {
   "cell_type": "code",
   "execution_count": 122,
   "metadata": {},
   "outputs": [
    {
     "name": "stdout",
     "output_type": "stream",
     "text": [
      "\"Accuracy: 0.81911\n"
     ]
    }
   ],
   "source": [
    "X_train, X_test, y_train, y_test = train_test_split(X, y, test_size=.3, random_state=42)\n",
    "# fit model no training data\n",
    "model = XGBClassifier()\n",
    "model.fit(X_train, y_train)\n",
    "# make predictions for test data\n",
    "y_pred = model.predict(X_test)\n",
    "predictions = [round(value) for value in y_pred]\n",
    "# evaluate predictions\n",
    "accuracy = accuracy_score(y_test, predictions)\n",
    "print(\"Accuracy: %.2f%%\" % (accuracy * 100.0))"
   ]
  },
  {
   "cell_type": "code",
   "execution_count": 123,
   "metadata": {},
   "outputs": [
    {
     "name": "stderr",
     "output_type": "stream",
     "text": [
      "C:\\ProgramData\\Miniconda3\\envs\\sample1\\lib\\site-packages\\xgboost\\core.py:587: FutureWarning: Series.base is deprecated and will be removed in a future version\n",
      "  if getattr(data, 'base', None) is not None and \\\n",
      "C:\\ProgramData\\Miniconda3\\envs\\sample1\\lib\\site-packages\\xgboost\\core.py:588: FutureWarning: Series.base is deprecated and will be removed in a future version\n",
      "  data.base is not None and isinstance(data, np.ndarray) \\\n"
     ]
    },
    {
     "name": "stdout",
     "output_type": "stream",
     "text": [
      "\"Accuracy: 0.10092\n"
     ]
    }
   ],
   "source": [
    "import xgboost as xgb\n",
    "data_dmatrix = xgb.DMatrix(data=X,label=y)\n",
    "xg_reg = xgb.XGBRegressor(objective ='reg:logistic', colsample_bytree = 0.3, learning_rate = 0.1,\n",
    "                max_depth = 5, alpha = 10, n_estimators = 10)\n",
    "# evaluate model\n",
    "scores = cross_val_score(xg_reg, X, y, cv=cv, n_jobs=-1)\n",
    "# summarize performance\n",
    "print('\"Accuracy: %.5f' % mean(scores))"
   ]
  },
  {
   "cell_type": "code",
   "execution_count": 129,
   "metadata": {},
   "outputs": [
    {
     "data": {
      "text/plain": [
       "(7044, 25)"
      ]
     },
     "execution_count": 129,
     "metadata": {},
     "output_type": "execute_result"
    }
   ],
   "source": [
    "X_train.shape\n",
    "X_test.shape"
   ]
  },
  {
   "cell_type": "code",
   "execution_count": 134,
   "metadata": {},
   "outputs": [
    {
     "name": "stdout",
     "output_type": "stream",
     "text": [
      "[0]\teval-error:0.181573\ttrain-error:0.182222\n",
      "[1]\teval-error:0.184412\ttrain-error:0.181553\n",
      "error=0.184412\n",
      "[09:52:40] 7044x25 matrix with 176100 entries loaded from dtest.buffer\n",
      "start running example of build DMatrix from scipy.sparse CSR Matrix\n"
     ]
    },
    {
     "ename": "FileNotFoundError",
     "evalue": "[Errno 2] No such file or directory: '../data/agaricus.txt.train'",
     "output_type": "error",
     "traceback": [
      "\u001b[1;31m---------------------------------------------------------------------------\u001b[0m",
      "\u001b[1;31mFileNotFoundError\u001b[0m                         Traceback (most recent call last)",
      "\u001b[1;32m<ipython-input-134-fd6bfd55b524>\u001b[0m in \u001b[0;36m<module>\u001b[1;34m\u001b[0m\n\u001b[0;32m     53\u001b[0m \u001b[0mrow\u001b[0m \u001b[1;33m=\u001b[0m \u001b[1;33m[\u001b[0m\u001b[1;33m]\u001b[0m\u001b[1;33m;\u001b[0m \u001b[0mcol\u001b[0m \u001b[1;33m=\u001b[0m \u001b[1;33m[\u001b[0m\u001b[1;33m]\u001b[0m\u001b[1;33m;\u001b[0m \u001b[0mdat\u001b[0m \u001b[1;33m=\u001b[0m \u001b[1;33m[\u001b[0m\u001b[1;33m]\u001b[0m\u001b[1;33m\u001b[0m\u001b[1;33m\u001b[0m\u001b[0m\n\u001b[0;32m     54\u001b[0m \u001b[0mi\u001b[0m \u001b[1;33m=\u001b[0m \u001b[1;36m0\u001b[0m\u001b[1;33m\u001b[0m\u001b[1;33m\u001b[0m\u001b[0m\n\u001b[1;32m---> 55\u001b[1;33m \u001b[1;32mfor\u001b[0m \u001b[0ml\u001b[0m \u001b[1;32min\u001b[0m \u001b[0mopen\u001b[0m\u001b[1;33m(\u001b[0m\u001b[1;34m'../data/agaricus.txt.train'\u001b[0m\u001b[1;33m)\u001b[0m\u001b[1;33m:\u001b[0m\u001b[1;33m\u001b[0m\u001b[1;33m\u001b[0m\u001b[0m\n\u001b[0m\u001b[0;32m     56\u001b[0m     \u001b[0marr\u001b[0m \u001b[1;33m=\u001b[0m \u001b[0ml\u001b[0m\u001b[1;33m.\u001b[0m\u001b[0msplit\u001b[0m\u001b[1;33m(\u001b[0m\u001b[1;33m)\u001b[0m\u001b[1;33m\u001b[0m\u001b[1;33m\u001b[0m\u001b[0m\n\u001b[0;32m     57\u001b[0m     \u001b[0mlabels\u001b[0m\u001b[1;33m.\u001b[0m\u001b[0mappend\u001b[0m\u001b[1;33m(\u001b[0m\u001b[0mint\u001b[0m\u001b[1;33m(\u001b[0m\u001b[0marr\u001b[0m\u001b[1;33m[\u001b[0m\u001b[1;36m0\u001b[0m\u001b[1;33m]\u001b[0m\u001b[1;33m)\u001b[0m\u001b[1;33m)\u001b[0m\u001b[1;33m\u001b[0m\u001b[1;33m\u001b[0m\u001b[0m\n",
      "\u001b[1;31mFileNotFoundError\u001b[0m: [Errno 2] No such file or directory: '../data/agaricus.txt.train'"
     ]
    }
   ],
   "source": [
    "#!/usr/bin/python\n",
    "import numpy as np\n",
    "import scipy.sparse\n",
    "import pickle\n",
    "import xgboost as xgb\n",
    " \n",
    "### simple example\n",
    "# load file from text file, also binary buffer generated by xgboost\n",
    "dtrain = xgb.DMatrix(X_train,label=y_train)\n",
    "dtest = xgb.DMatrix(X_test,label=y_test)\n",
    "\n",
    "# specify parameters via map, definition are same as c++ version\n",
    "param = {'max_depth':2, 'eta':1, 'silent':1, 'objective':'binary:logistic'}\n",
    "\n",
    "# specify validations set to watch performance\n",
    "watchlist = [(dtest, 'eval'), (dtrain, 'train')]\n",
    "num_round = 2\n",
    "bst = xgb.train(param, dtrain, num_round, watchlist)\n",
    "\n",
    "# this is prediction\n",
    "preds = bst.predict(dtest)\n",
    "labels = dtest.get_label()\n",
    "print('error=%f' % (sum(1 for i in range(len(preds)) if int(preds[i] > 0.5) != labels[i]) / float(len(preds))))\n",
    "bst.save_model('0001.model')\n",
    "# dump model\n",
    "bst.dump_model('dump.raw.txt')\n",
    "# dump model with feature map\n",
    "bst.dump_model('dump.nice.txt', '../data/featmap.txt')\n",
    "\n",
    "# save dmatrix into binary buffer\n",
    "dtest.save_binary('dtest.buffer')\n",
    "# save model\n",
    "bst.save_model('xgb.model')\n",
    "# load model and data in\n",
    "bst2 = xgb.Booster(model_file='xgb.model')\n",
    "dtest2 = xgb.DMatrix('dtest.buffer')\n",
    "preds2 = bst2.predict(dtest2)\n",
    "# assert they are the same\n",
    "assert np.sum(np.abs(preds2 - preds)) == 0\n",
    "\n",
    "# alternatively, you can pickle the booster\n",
    "pks = pickle.dumps(bst2)\n",
    "# load model and data in\n",
    "bst3 = pickle.loads(pks)\n",
    "preds3 = bst3.predict(dtest2)\n",
    "# assert they are the same\n",
    "assert np.sum(np.abs(preds3 - preds)) == 0\n",
    "\n",
    "###\n",
    "# build dmatrix from scipy.sparse\n",
    "print('start running example of build DMatrix from scipy.sparse CSR Matrix')\n",
    "labels = []\n",
    "row = []; col = []; dat = []\n",
    "i = 0\n",
    "for l in open('../data/agaricus.txt.train'):\n",
    "    arr = l.split()\n",
    "    labels.append(int(arr[0]))\n",
    "    for it in arr[1:]:\n",
    "        k,v = it.split(':')\n",
    "        row.append(i); col.append(int(k)); dat.append(float(v))\n",
    "    i += 1\n",
    "csr = scipy.sparse.csr_matrix((dat, (row, col)))\n",
    "dtrain = xgb.DMatrix(csr, label=labels)\n",
    "watchlist = [(dtest, 'eval'), (dtrain, 'train')]\n",
    "bst = xgb.train(param, dtrain, num_round, watchlist)\n",
    "\n",
    "print('start running example of build DMatrix from scipy.sparse CSC Matrix')\n",
    "# we can also construct from csc matrix\n",
    "csc = scipy.sparse.csc_matrix((dat, (row, col)))\n",
    "dtrain = xgb.DMatrix(csc, label=labels)\n",
    "watchlist = [(dtest, 'eval'), (dtrain, 'train')]\n",
    "bst = xgb.train(param, dtrain, num_round, watchlist)\n",
    "\n",
    "print('start running example of build DMatrix from numpy array')\n",
    "# NOTE: npymat is numpy array, we will convert it into scipy.sparse.csr_matrix in internal implementation\n",
    "# then convert to DMatrix\n",
    "npymat = csr.todense()\n",
    "dtrain = xgb.DMatrix(npymat, label=labels)\n",
    "watchlist = [(dtest, 'eval'), (dtrain, 'train')]\n",
    "bst = xgb.train(param, dtrain, num_round, watchlist)"
   ]
  },
  {
   "cell_type": "code",
   "execution_count": 136,
   "metadata": {},
   "outputs": [],
   "source": [
    "import xgboost as xgb\n",
    "import pandas as pd\n",
    "\n",
    "def get_xgb_feat_importances(clf):\n",
    "\n",
    "    if isinstance(clf, xgb.XGBModel):\n",
    "        # clf has been created by calling\n",
    "        # xgb.XGBClassifier.fit() or xgb.XGBRegressor().fit()\n",
    "        fscore = clf.booster().get_fscore()\n",
    "    else:\n",
    "        # clf has been created by calling xgb.train.\n",
    "        # Thus, clf is an instance of xgb.Booster.\n",
    "        fscore = clf.get_fscore()\n",
    "\n",
    "    feat_importances = []\n",
    "    for ft, score in fscore.iteritems():\n",
    "        feat_importances.append({'Feature': ft, 'Importance': score})\n",
    "    feat_importances = pd.DataFrame(feat_importances)\n",
    "    feat_importances = feat_importances.sort_values(\n",
    "        by='Importance', ascending=False).reset_index(drop=True)\n",
    "    # Divide the importances by the sum of all importances\n",
    "    # to get relative importances. By using relative importances\n",
    "    # the sum of all importances will equal to 1, i.e.,\n",
    "    # np.sum(feat_importances['importance']) == 1\n",
    "    feat_importances['Importance'] /= feat_importances['Importance'].sum()\n",
    "    # Print the most important features and their importances\n",
    "    print(feat_importances.head())\n",
    "    return feat_importances"
   ]
  },
  {
   "cell_type": "code",
   "execution_count": 6,
   "metadata": {},
   "outputs": [
    {
     "name": "stdout",
     "output_type": "stream",
     "text": [
      "Saved file: Predictions AdaBooster  0.8162.csv\n"
     ]
    }
   ],
   "source": [
    "#importing test data\n",
    "Test = pd.read_csv('TestData.csv')\n",
    "\n",
    "#making copy to work with\n",
    "Test_copy = Test.copy()\n",
    "\n",
    "Test_copy= Test_copy.drop(['Client_ID'], axis=1)\n",
    "\n",
    "#Train the model using the complete training set using the model parameters defined above\n",
    "clf.fit(X, y)\n",
    "\n",
    "#predicting values for test set\n",
    "y_pred=clf.predict(Test_copy)\n",
    "\n",
    "#Create a  DataFrame with the client ids and our prediction \n",
    "submission = pd.DataFrame({'Client_ID':Test['Client_ID'],'NEXT_MONTH_DEFAULT':y_pred})\n",
    "\n",
    "#Convert DataFrame to a csv file that can be uploaded\n",
    "filename = 'Predictions AdaBooster  0.8162.csv'\n",
    "\n",
    "submission.to_csv(filename,index=False)\n",
    "\n",
    "print('Saved file: ' + filename)"
   ]
  }
 ],
 "metadata": {
  "kernelspec": {
   "display_name": "Python 3.7.4",
   "language": "python",
   "name": "sample1"
  },
  "language_info": {
   "codemirror_mode": {
    "name": "ipython",
    "version": 3
   },
   "file_extension": ".py",
   "mimetype": "text/x-python",
   "name": "python",
   "nbconvert_exporter": "python",
   "pygments_lexer": "ipython3",
   "version": "3.7.6"
  }
 },
 "nbformat": 4,
 "nbformat_minor": 2
}
