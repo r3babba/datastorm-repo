{
 "cells": [
  {
   "cell_type": "code",
   "execution_count": 2,
   "metadata": {},
   "outputs": [],
   "source": [
    "import pandas as pd\n",
    "import numpy as np\n",
    "pd.set_option('display.max_rows', 1000)\n",
    "from sklearn.preprocessing import LabelEncoder\n",
    "from sklearn.model_selection import train_test_split\n",
    "from sklearn.ensemble import RandomForestClassifier\n",
    "from sklearn import metrics\n",
    "import matplotlib.pyplot as plt\n",
    "import seaborn as sns\n",
    "\n",
    "from imblearn.under_sampling import RandomUnderSampler\n",
    "from imblearn.over_sampling import SMOTE\n",
    "from imblearn.combine import SMOTEENN\n",
    "from imblearn.combine import SMOTETomek\n",
    "from sklearn.metrics import accuracy_score\n",
    "from sklearn.metrics import confusion_matrix"
   ]
  },
  {
   "cell_type": "code",
   "execution_count": 3,
   "metadata": {},
   "outputs": [],
   "source": [
    "#importing data\n",
    "df = pd.read_csv('TrainData.csv')\n",
    "\n",
    "#making copy to work with\n",
    "df_copy = df.copy()\n",
    "\n",
    "X = df_copy.drop(['NEXT_MONTH_DEFAULT','Client_ID'], axis=1)\n",
    "y = df_copy[\"NEXT_MONTH_DEFAULT\"]\n",
    "\n",
    "#splitting training and testing sets\n",
    "X_train, X_test, y_train, y_test = train_test_split(X, y, test_size=0.3) # 70% training and 30% test"
   ]
  },
  {
   "cell_type": "code",
   "execution_count": 4,
   "metadata": {},
   "outputs": [
    {
     "name": "stdout",
     "output_type": "stream",
     "text": [
      "Accuracy: 0.8165277777777777\n",
      "[[5315  292]\n",
      " [1029  564]]\n",
      "PAY_JULY            0.233147\n",
      "Pay_Time            0.150523\n",
      "PAY_AUG             0.103167\n",
      "PAY_SEP             0.058305\n",
      "PAY_NOV             0.035985\n",
      "DUE_AMT_JULY        0.035548\n",
      "PAID_AMT_JULY       0.035091\n",
      "PAY_OCT             0.032506\n",
      "PAID_AMT_SEP        0.030738\n",
      "PAY_DEC             0.029294\n",
      "PAID_AMT_AUG        0.028735\n",
      "DUE_AMT_AUG         0.026439\n",
      "PAID_AMT_OCT        0.024508\n",
      "Balance_Limit_V1    0.024409\n",
      "DUE_AMT_SEP         0.023942\n",
      "DUE_AMT_OCT         0.022652\n",
      "DUE_AMT_NOV         0.021880\n",
      "DUE_AMT_DEC         0.020780\n",
      "PAID_AMT_DEC        0.020513\n",
      "PAID_AMT_NOV        0.019982\n",
      "EDUCATION_STATUS    0.005508\n",
      "Gender              0.005018\n",
      "AGE                 0.004998\n",
      "MARITAL_STATUS      0.004758\n",
      "NO_PAY_DEC          0.001573\n",
      "dtype: float64\n"
     ]
    }
   ],
   "source": [
    "#Create a Gaussian Classifier\n",
    "#clf=RandomForestClassifier(min_samples_leaf = 25, bootstrap = False)\n",
    "clf=RandomForestClassifier(random_state=0, min_samples_leaf = 25, bootstrap = False)\n",
    "\n",
    "#Train the model using the training sets\n",
    "clf.fit(X_train,y_train)\n",
    "\n",
    "y_pred=clf.predict(X_test)\n",
    "\n",
    "# Model Accuracy, how often is the classifier correct\n",
    "accuracy = metrics.accuracy_score(y_test, y_pred)\n",
    "print(\"Accuracy:\",metrics.accuracy_score(y_test, y_pred))\n",
    "\n",
    "cm = confusion_matrix(y_test, y_pred)\n",
    "print(cm)\n",
    "\n",
    "feature_imp = pd.Series(clf.feature_importances_,index=X.columns).sort_values(ascending=False)\n",
    "print(feature_imp)"
   ]
  },
  {
   "cell_type": "code",
   "execution_count": 11,
   "metadata": {},
   "outputs": [
    {
     "name": "stdout",
     "output_type": "stream",
     "text": [
      "Saved file: DataStorm Predictions 1.csv\n"
     ]
    }
   ],
   "source": [
    "#importing test data\n",
    "Test = pd.read_csv('TestData.csv')\n",
    "\n",
    "#making copy to work with\n",
    "Test_copy = Test.copy()\n",
    "\n",
    "Test_copy= Test_copy.drop(['Client_ID'], axis=1)\n",
    "\n",
    "#Train the model using the complete training set using the model parameters defined above\n",
    "clf.fit(X, y)\n",
    "\n",
    "#predicting values for test set\n",
    "y_pred=clf.predict(Test_copy)\n",
    "\n",
    "#Create a  DataFrame with the client ids and our prediction \n",
    "submission = pd.DataFrame({'Client_ID':Test['Client_ID'],'NEXT_MONTH_DEFAULT':y_pred})\n",
    "\n",
    "#Convert DataFrame to a csv file that can be uploaded\n",
    "filename = 'DataStorm Predictions 1.csv'\n",
    "\n",
    "submission.to_csv(filename,index=False)\n",
    "\n",
    "print('Saved file: ' + filename)"
   ]
  }
 ],
 "metadata": {
  "kernelspec": {
   "display_name": "Python 3.7.4",
   "language": "python",
   "name": "sample1"
  },
  "language_info": {
   "codemirror_mode": {
    "name": "ipython",
    "version": 3
   },
   "file_extension": ".py",
   "mimetype": "text/x-python",
   "name": "python",
   "nbconvert_exporter": "python",
   "pygments_lexer": "ipython3",
   "version": "3.7.6"
  }
 },
 "nbformat": 4,
 "nbformat_minor": 2
}
